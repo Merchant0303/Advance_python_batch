{
 "cells": [
  {
   "cell_type": "markdown",
   "id": "e063c0e7-d463-48f2-ab1c-79ca8f0fc3e1",
   "metadata": {},
   "source": [
    "# Session 1"
   ]
  },
  {
   "cell_type": "code",
   "execution_count": null,
   "id": "71000f29-1827-4b72-84a7-4fced3f001af",
   "metadata": {},
   "outputs": [],
   "source": []
  }
 ],
 "metadata": {
  "kernelspec": {
   "display_name": "Python [conda env:base] *",
   "language": "python",
   "name": "conda-base-py"
  },
  "language_info": {
   "codemirror_mode": {
    "name": "ipython",
    "version": 3
   },
   "file_extension": ".py",
   "mimetype": "text/x-python",
   "name": "python",
   "nbconvert_exporter": "python",
   "pygments_lexer": "ipython3",
   "version": "3.13.5"
  }
 },
 "nbformat": 4,
 "nbformat_minor": 5
}
