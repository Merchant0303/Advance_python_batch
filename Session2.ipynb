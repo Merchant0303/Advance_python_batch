{
 "cells": [
  {
   "cell_type": "markdown",
   "id": "182261cc-a7c5-4645-ae3f-d9f6f1b86087",
   "metadata": {},
   "source": [
    "# Different types of print statement"
   ]
  },
  {
   "cell_type": "code",
   "execution_count": 2,
   "id": "f69c1602-eaee-42dd-a6f9-24543684ed42",
   "metadata": {},
   "outputs": [],
   "source": [
    "# 1)Print statement using cooma separated values"
   ]
  },
  {
   "cell_type": "code",
   "execution_count": 12,
   "id": "b13a85e0-434d-43c5-bf56-1c8a96451e6c",
   "metadata": {},
   "outputs": [
    {
     "name": "stdout",
     "output_type": "stream",
     "text": [
      "hello my name is Pratham \n",
      "and age is  22 \n",
      "\tand salary is 18000\n"
     ]
    }
   ],
   "source": [
    "name= 'Pratham'\n",
    "age=22\n",
    "salary=18000\n",
    "print(\"hello my name is\",name,\"\\nand age is \",age,\"\\n\\tand salary is\",salary)"
   ]
  },
  {
   "cell_type": "code",
   "execution_count": 5,
   "id": "6f58fe77-ef4b-4ddc-805b-5a1b450a347e",
   "metadata": {},
   "outputs": [],
   "source": [
    "# 2)Print statement using fstring"
   ]
  },
  {
   "cell_type": "code",
   "execution_count": 6,
   "id": "82ebeb54-b7e8-43fa-bdd1-e567531a8b1d",
   "metadata": {},
   "outputs": [
    {
     "name": "stdout",
     "output_type": "stream",
     "text": [
      "Hello my name is abhishek and my age is 21 and salary is 27000\n"
     ]
    }
   ],
   "source": [
    "name= 'abhishek'\n",
    "age=21\n",
    "salary=27000\n",
    "print(f\"Hello my name is {name} and my age is {age} and salary is {salary}\")"
   ]
  },
  {
   "cell_type": "code",
   "execution_count": 7,
   "id": "d253352e-bdcd-4b20-a7c6-fcc7315fab3c",
   "metadata": {},
   "outputs": [],
   "source": [
    "# 3)Print statement using .format"
   ]
  },
  {
   "cell_type": "code",
   "execution_count": 8,
   "id": "d32e3bf3-d8c0-4deb-af54-3f6c7f55881a",
   "metadata": {},
   "outputs": [
    {
     "name": "stdout",
     "output_type": "stream",
     "text": [
      "hey i am Pratham and my age is 22 and salary is 18000\n"
     ]
    }
   ],
   "source": [
    "name='Pratham'\n",
    "age=22\n",
    "salary=18000\n",
    "print(\"hey i am {} and my age is {} and salary is {}\".format(name,age,salary))"
   ]
  },
  {
   "cell_type": "code",
   "execution_count": 9,
   "id": "fb798b2e-7882-48e2-a858-736539a08f4c",
   "metadata": {},
   "outputs": [],
   "source": [
    "# 4)Print statemmet using modulo(%) operator"
   ]
  },
  {
   "cell_type": "code",
   "execution_count": 10,
   "id": "e0023e8d-3f56-4798-af7b-d2f3b42a999f",
   "metadata": {},
   "outputs": [],
   "source": [
    "# string=%s\n",
    "# integer=%d\n",
    "# float=%a"
   ]
  },
  {
   "cell_type": "code",
   "execution_count": 11,
   "id": "ae6669e7-04e4-47f7-a417-40621472832a",
   "metadata": {},
   "outputs": [
    {
     "name": "stdout",
     "output_type": "stream",
     "text": [
      "Hello my name is Pratham and my age is 22 and salary is 18000\n"
     ]
    }
   ],
   "source": [
    "name='Pratham'\n",
    "age=22\n",
    "salary=18000\n",
    "print(\"Hello my name is %s and my age is %d and salary is %d\"%(name,age,salary))"
   ]
  },
  {
   "cell_type": "code",
   "execution_count": null,
   "id": "11543f12-9330-411f-ba92-b9f8390e2f48",
   "metadata": {},
   "outputs": [],
   "source": []
  }
 ],
 "metadata": {
  "kernelspec": {
   "display_name": "Python [conda env:base] *",
   "language": "python",
   "name": "conda-base-py"
  },
  "language_info": {
   "codemirror_mode": {
    "name": "ipython",
    "version": 3
   },
   "file_extension": ".py",
   "mimetype": "text/x-python",
   "name": "python",
   "nbconvert_exporter": "python",
   "pygments_lexer": "ipython3",
   "version": "3.13.5"
  }
 },
 "nbformat": 4,
 "nbformat_minor": 5
}
